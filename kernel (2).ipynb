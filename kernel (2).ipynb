{
  "cells": [
    {
      "metadata": {
        "_uuid": "8f2839f25d086af736a60e9eeb907d3b93b6e0e5",
        "_cell_guid": "b1076dfc-b9ad-4769-8c92-a6c4dae69d19",
        "trusted": true
      },
      "cell_type": "code",
      "source": "# This Python 3 environment comes with many helpful analytics libraries installed\n# It is defined by the kaggle/python docker image: https://github.com/kaggle/docker-python\n# For example, here's several helpful packages to load in \n\nimport numpy as np # linear algebra\nimport pandas as pd # data processing, CSV file I/O (e.g. pd.read_csv)\n\n# Input data files are available in the \"../input/\" directory.\n# For example, running this (by clicking run or pressing Shift+Enter) will list the files in the input directory\n\nimport os\nprint(os.listdir(\"../input\"))\n\n# Any results you write to the current directory are saved as output.",
      "execution_count": null,
      "outputs": []
    },
    {
      "metadata": {
        "_cell_guid": "79c7e3d0-c299-4dcb-8224-4455121ee9b0",
        "_uuid": "d629ff2d2480ee46fbb7e2d37f6b5fab8052498a",
        "trusted": true
      },
      "cell_type": "code",
      "source": "import numpy as np\nimport pandas as pd",
      "execution_count": 1,
      "outputs": []
    },
    {
      "metadata": {
        "trusted": true,
        "_uuid": "fdba20ff7e43d891f391f1c2677097c6e9f2e4ff"
      },
      "cell_type": "code",
      "source": "teams = pd.read_csv('../input/wdatafiles/WTeams.csv')\nteams2 = pd.read_csv('../input/wdatafiles/WTeamSpellings.csv', encoding='latin-1')\nseason_cresults = pd.read_csv('../input/wdatafiles/WRegularSeasonCompactResults.csv')\nseason_dresults = pd.read_csv('../input/wdatafiles/WRegularSeasonDetailedResults.csv')\ntourney_cresults = pd.read_csv('../input/wdatafiles/WNCAATourneyCompactResults.csv')\ntourney_dresults = pd.read_csv('../input/wdatafiles/WNCAATourneyDetailedResults.csv')\nslots = pd.read_csv('../input/wdatafiles/WNCAATourneySlots.csv')\nseeds = pd.read_csv('../input/wdatafiles/WNCAATourneySeeds.csv')\nseeds = {'_'.join(map(str,[int(k1),k2])):int(v[1:3]) for k1, v, k2 in seeds[['Season', 'Seed', 'TeamID']].values}\nseeds = {**seeds, **{k.replace('2018_','2019_'):seeds[k] for k in seeds if '2018_' in k}}\ncities = pd.read_csv('../input/wdatafiles/WCities.csv')\ngcities = pd.read_csv('../input/wdatafiles/WGameCities.csv')\nseasons = pd.read_csv('../input/wdatafiles/WSeasons.csv')\nsub = pd.read_csv('../input/WSampleSubmissionStage1.csv')\n",
      "execution_count": 2,
      "outputs": []
    },
    {
      "metadata": {
        "trusted": true,
        "_uuid": "1aacbf06bb30b0d8029c4c1efea4c16b41321e71"
      },
      "cell_type": "code",
      "source": "cities.shape",
      "execution_count": 3,
      "outputs": [
        {
          "output_type": "execute_result",
          "execution_count": 3,
          "data": {
            "text/plain": "(421, 3)"
          },
          "metadata": {}
        }
      ]
    },
    {
      "metadata": {
        "trusted": true,
        "_uuid": "51ddbb312e035bdc5de4995061cc97fb1ab6a1ab"
      },
      "cell_type": "code",
      "source": "teams2 = teams2.groupby(by='TeamID', as_index=False)['TeamNameSpelling'].count()\nteams2.columns = ['TeamID', 'TeamNameCount']\nteams = pd.merge(teams, teams2, how='left', on=['TeamID'])\ndel teams2",
      "execution_count": 4,
      "outputs": []
    },
    {
      "metadata": {
        "trusted": true,
        "_uuid": "ebc0cd9cf90115b53a8d54cb1dd64a081e8329e3"
      },
      "cell_type": "code",
      "source": "season_cresults['ST'] = 'S'\nseason_dresults['ST'] = 'S'\ntourney_cresults['ST'] = 'T'\ntourney_dresults['ST'] = 'T'\n\ngames = pd.concat((season_dresults, tourney_dresults), axis=0, ignore_index=True)\ngames.reset_index(drop=True, inplace=True)\ngames['WLoc'] = games['WLoc'].map({'A': 1, 'H': 2, 'N': 3})",
      "execution_count": 5,
      "outputs": []
    },
    {
      "metadata": {
        "trusted": true,
        "_uuid": "6b372be3502edc81ac7b7c2c655c9bbc76193df7"
      },
      "cell_type": "code",
      "source": "games['ID'] = games.apply(lambda r: '_'.join(map(str, [r['Season']]+sorted([r['WTeamID'],r['LTeamID']]))), axis=1)\ngames['IDTeams'] = games.apply(lambda r: '_'.join(map(str, sorted([r['WTeamID'],r['LTeamID']]))), axis=1)\ngames['Team1'] = games.apply(lambda r: sorted([r['WTeamID'],r['LTeamID']])[0], axis=1)\ngames['Team2'] = games.apply(lambda r: sorted([r['WTeamID'],r['LTeamID']])[1], axis=1)\ngames['IDTeam1'] = games.apply(lambda r: '_'.join(map(str, [r['Season'], r['Team1']])), axis=1)\ngames['IDTeam2'] = games.apply(lambda r: '_'.join(map(str, [r['Season'], r['Team2']])), axis=1)\n",
      "execution_count": 6,
      "outputs": []
    },
    {
      "metadata": {
        "trusted": true,
        "_uuid": "024d08f4d118d7860d4f8f190d19d85e5d60bf58"
      },
      "cell_type": "code",
      "source": "games['Team1Seed'] = games['IDTeam1'].map(seeds).fillna(0)\ngames['Team2Seed'] = games['IDTeam2'].map(seeds).fillna(0)\n",
      "execution_count": 7,
      "outputs": []
    },
    {
      "metadata": {
        "trusted": true,
        "_uuid": "179e205050684ed614e262ada46d8737e2793b20"
      },
      "cell_type": "code",
      "source": "games['ScoreDiff'] = games['WScore'] - games['LScore']\ngames['Pred'] = games.apply(lambda r: 1. if sorted([r['WTeamID'],r['LTeamID']])[0]==r['WTeamID'] else 0., axis=1)\ngames['ScoreDiffNorm'] = games.apply(lambda r: r['ScoreDiff'] * -1 if r['Pred'] == 0. else r['ScoreDiff'], axis=1)\ngames['SeedDiff'] = games['Team1Seed'] - games['Team2Seed'] \ngames = games.fillna(-1)",
      "execution_count": 8,
      "outputs": []
    },
    {
      "metadata": {
        "trusted": true,
        "_uuid": "349712d05979689ad41b62750bff015d39a374fc"
      },
      "cell_type": "code",
      "source": "#Competitiveness, includes more game options - overfitting for now in Tournaments\nc_score_col = ['NumOT', 'WFGM', 'WFGA', 'WFGM3', 'WFGA3', 'WFTM', 'WFTA', 'WOR', 'WDR', 'WAst', 'WTO', 'WStl',\n 'WBlk', 'WPF', 'LFGM', 'LFGA', 'LFGM3', 'LFGA3', 'LFTM', 'LFTA', 'LOR', 'LDR', 'LAst', 'LTO', 'LStl',\n 'LBlk', 'LPF']\nc_score_agg = ['sum', 'mean', 'median', 'max', 'min', 'std', 'skew', 'nunique']\ngb = games.groupby(by=['IDTeams']).agg({k: c_score_agg for k in c_score_col}).reset_index()\ngb.columns = [''.join(c) + '_c_score' for c in gb.columns]\n\n#for now\ngames = games[games['ST']=='T']\n",
      "execution_count": 9,
      "outputs": []
    },
    {
      "metadata": {
        "trusted": true,
        "_uuid": "f62f69f112a84461b7d5e8acae6a84065f7b7bbb"
      },
      "cell_type": "code",
      "source": "sub['WLoc'] = 3\nsub['Season'] = sub['ID'].map(lambda x: x.split('_')[0])\nsub['Season'] = sub['ID'].map(lambda x: x.split('_')[0])\nsub['Season'] = sub['Season'].astype(int)\nsub['Team1'] = sub['ID'].map(lambda x: x.split('_')[1])\nsub['Team2'] = sub['ID'].map(lambda x: x.split('_')[2])\nsub['IDTeams'] = sub.apply(lambda r: '_'.join(map(str, [r['Team1'], r['Team2']])), axis=1)\nsub['IDTeam1'] = sub.apply(lambda r: '_'.join(map(str, [r['Season'], r['Team1']])), axis=1)\nsub['IDTeam2'] = sub.apply(lambda r: '_'.join(map(str, [r['Season'], r['Team2']])), axis=1)\nsub['Team1Seed'] = sub['IDTeam1'].map(seeds).fillna(0)\nsub['Team2Seed'] = sub['IDTeam2'].map(seeds).fillna(0)\nsub['SeedDiff'] = sub['Team1Seed'] - sub['Team2Seed'] \nsub = sub.fillna(-1)",
      "execution_count": 10,
      "outputs": []
    },
    {
      "metadata": {
        "trusted": true,
        "_uuid": "c6e9e969b531ff556787f23932283d4d23eb8902"
      },
      "cell_type": "code",
      "source": "games = pd.merge(games, gb, how='left', left_on='IDTeams', right_on='IDTeams_c_score')\nsub = pd.merge(sub, gb, how='left', left_on='IDTeams', right_on='IDTeams_c_score')",
      "execution_count": 11,
      "outputs": []
    },
    {
      "metadata": {
        "trusted": true,
        "_uuid": "a7acd87b78c8b054428792edcb7a46c4f45573c0"
      },
      "cell_type": "code",
      "source": "col = [c for c in games.columns if c not in ['ID', 'DayNum', 'ST', 'Team1', 'Team2', 'IDTeams', 'IDTeam1', 'IDTeam2', 'WTeamID', 'WScore', 'LTeamID', 'LScore', 'NumOT', 'Pred', 'ScoreDiff', 'ScoreDiffNorm', 'WLoc'] + c_score_col]",
      "execution_count": 12,
      "outputs": []
    },
    {
      "metadata": {
        "trusted": true,
        "_uuid": "d03180a4321d1c2243251ff95d9465cfc0bb0fa8"
      },
      "cell_type": "code",
      "source": "from sklearn.metrics import log_loss\nfrom sklearn.model_selection import RandomizedSearchCV\nfrom sklearn.ensemble import GradientBoostingClassifier\nmodel = GradientBoostingClassifier(n_estimators = 350, random_state=100)\nmodel.fit(games[col].fillna(-1), games['Pred'])\npredictions = model.predict(games[col].fillna(-1)).clip(0,1)\nprint('Log Loss:', log_loss(games['Pred'], predictions))",
      "execution_count": 20,
      "outputs": [
        {
          "output_type": "stream",
          "text": "Log Loss: 9.992007221626415e-16\n",
          "name": "stdout"
        }
      ]
    },
    {
      "metadata": {
        "trusted": true,
        "_uuid": "694fdef8e408b4c10e0eca21dc6bb4dd58f04ae7"
      },
      "cell_type": "code",
      "source": "sub['Pred'] = model.predict(sub[col].fillna(-1)).clip(0,1)\nsub[['ID', 'Pred']].to_csv('submission.csv', index=False)",
      "execution_count": null,
      "outputs": []
    },
    {
      "metadata": {
        "trusted": true,
        "_uuid": "d6f5f0c8548d2b05795f90e9133a182f0e9165c1"
      },
      "cell_type": "code",
      "source": "",
      "execution_count": null,
      "outputs": []
    }
  ],
  "metadata": {
    "kernelspec": {
      "display_name": "Python 3",
      "language": "python",
      "name": "python3"
    },
    "language_info": {
      "name": "python",
      "version": "3.6.6",
      "mimetype": "text/x-python",
      "codemirror_mode": {
        "name": "ipython",
        "version": 3
      },
      "pygments_lexer": "ipython3",
      "nbconvert_exporter": "python",
      "file_extension": ".py"
    }
  },
  "nbformat": 4,
  "nbformat_minor": 1
}